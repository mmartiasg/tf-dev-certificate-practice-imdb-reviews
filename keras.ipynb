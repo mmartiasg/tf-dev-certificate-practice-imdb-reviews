{
 "cells": [
  {
   "cell_type": "code",
   "execution_count": 1,
   "metadata": {},
   "outputs": [],
   "source": [
    "from tensorflow.keras.datasets import imdb\n",
    "import numpy as np\n",
    "import tensorflow as tf"
   ]
  },
  {
   "cell_type": "code",
   "execution_count": null,
   "metadata": {},
   "outputs": [],
   "source": [
    "NUM_WORDS = 10000\n",
    "MAX_LENGHT = 25"
   ]
  },
  {
   "cell_type": "code",
   "execution_count": null,
   "metadata": {},
   "outputs": [],
   "source": [
    "(train_data, train_labels), (test_data, test_labels) = imdb.load_data(num_words=NUM_WORDS)"
   ]
  },
  {
   "attachments": {},
   "cell_type": "markdown",
   "metadata": {},
   "source": [
    "# Inspect data\n",
    "\n",
    "Train data is an array of integer indexes\n",
    "\n",
    "Label 1 for possitive and 0 for negative feelings towards the review"
   ]
  },
  {
   "cell_type": "code",
   "execution_count": null,
   "metadata": {},
   "outputs": [],
   "source": [
    "train_data.shape"
   ]
  },
  {
   "cell_type": "code",
   "execution_count": null,
   "metadata": {},
   "outputs": [],
   "source": [
    "train_data[0][:10]"
   ]
  },
  {
   "cell_type": "code",
   "execution_count": null,
   "metadata": {},
   "outputs": [],
   "source": [
    "train_labels[0]"
   ]
  },
  {
   "cell_type": "markdown",
   "metadata": {},
   "source": [
    "# translate sentence to words"
   ]
  },
  {
   "cell_type": "code",
   "execution_count": null,
   "metadata": {},
   "outputs": [],
   "source": [
    "index_to_word = dict([(value, key) for key, value in imdb.get_word_index().items()])"
   ]
  },
  {
   "cell_type": "code",
   "execution_count": null,
   "metadata": {},
   "outputs": [],
   "source": [
    "index_to_word[1]"
   ]
  },
  {
   "cell_type": "code",
   "execution_count": null,
   "metadata": {},
   "outputs": [],
   "source": [
    "\" \".join([index_to_word[index] for index in train_data[0]])"
   ]
  },
  {
   "cell_type": "markdown",
   "metadata": {},
   "source": [
    "# 1st Approach using 1 hot encoding"
   ]
  },
  {
   "cell_type": "code",
   "execution_count": null,
   "metadata": {},
   "outputs": [],
   "source": [
    "type(train_data)"
   ]
  },
  {
   "cell_type": "code",
   "execution_count": null,
   "metadata": {},
   "outputs": [],
   "source": [
    "for s in train_data:\n",
    "    print(type(s))\n",
    "    break"
   ]
  },
  {
   "cell_type": "code",
   "execution_count": null,
   "metadata": {},
   "outputs": [],
   "source": [
    "def padding(sentence, max_lenght):\n",
    "    if max_lenght:\n",
    "        return sentence[:max_lenght]\n",
    "    return sentence\n",
    "\n",
    "def onehot_v2(sentences, num_words, max_lenght):\n",
    "    \"\"\"\n",
    "        For each sentence I have a word index\n",
    "        4 7 43 314\n",
    "        then limit those words to max lenght\n",
    "        the last step is to place a 1 in the position of each word Index\n",
    "        the output will be a 10000 position array\n",
    "        the array goes from 0 so position 4 will be the 5th position of the array\n",
    "        0 0 0 1 0 0 1 0 0 0 0 0 .... (44)1 ... (315)1\n",
    "    \"\"\"\n",
    "    zeros_array = np.zeros((len(sentences), num_words))\n",
    "    for sentence_index, sentence in enumerate(sentences):\n",
    "        for word_index in padding(sentence, max_lenght=max_lenght):\n",
    "            zeros_array[sentence_index, word_index] = 1\n",
    "    \n",
    "    return zeros_array\n",
    "\n",
    "#padding was not working\n",
    "def onehot_v1(sentences, num_words, max_lenght):\n",
    "    \"\"\"\n",
    "        For each sentence I have a word index\n",
    "        4 7 43 314\n",
    "        then limit those words to max lenght\n",
    "        the last step is to place a 1 in the position of each word Index\n",
    "        the output will be a 10000 position array\n",
    "        the array goes from 0 so position 4 will be the 5th position of the array\n",
    "        0 0 0 1 0 0 1 0 0 0 0 0 .... (44)1 ... (315)1\n",
    "    \"\"\"\n",
    "    zeros_array = np.zeros((len(sentences), num_words))\n",
    "    for sentence_index, sentence in enumerate(padding(sentences, max_lenght=max_lenght)):\n",
    "        for word_index in sentence:\n",
    "            zeros_array[sentence_index, word_index] = 1\n",
    "    \n",
    "    return zeros_array\n",
    "\n",
    "def onehot_v2(sentences, num_words, max_lenght):\n",
    "    \"\"\"\n",
    "        For each sentence I have a word index\n",
    "        4 7 43 314\n",
    "        then limit those words to max lenght\n",
    "        the last step is to place a 1 in the position of each word Index\n",
    "        the output will be a 10000 position array\n",
    "        the array goes from 0 so position 4 will be the 5th position of the array\n",
    "        0 0 0 1 0 0 1 0 0 0 0 0 .... (44)1 ... (315)1\n",
    "    \"\"\"\n",
    "    zeros_array = np.zeros((len(sentences), num_words))\n",
    "    for sentence_index, sentence in enumerate(sentences):\n",
    "        for word_index in padding(sentence, max_lenght=max_lenght):\n",
    "            zeros_array[sentence_index, word_index] = 1\n",
    "    \n",
    "    return zeros_array"
   ]
  },
  {
   "cell_type": "code",
   "execution_count": null,
   "metadata": {},
   "outputs": [],
   "source": [
    "one_hot_train_data = onehot_v2(train_data, max_lenght=MAX_LENGHT, num_words=NUM_WORDS)"
   ]
  },
  {
   "cell_type": "code",
   "execution_count": null,
   "metadata": {},
   "outputs": [],
   "source": [
    "one_hot_train_data.shape"
   ]
  },
  {
   "cell_type": "markdown",
   "metadata": {},
   "source": [
    "# 0 is reserved for the UKN token"
   ]
  },
  {
   "cell_type": "code",
   "execution_count": null,
   "metadata": {},
   "outputs": [],
   "source": [
    "one_hot_test_data = onehot_v2(test_data, max_lenght=MAX_LENGHT, num_words=NUM_WORDS)"
   ]
  },
  {
   "cell_type": "code",
   "execution_count": null,
   "metadata": {},
   "outputs": [],
   "source": [
    "one_hot_test_data.shape"
   ]
  },
  {
   "cell_type": "markdown",
   "metadata": {},
   "source": [
    "# one hot labels"
   ]
  },
  {
   "cell_type": "code",
   "execution_count": null,
   "metadata": {},
   "outputs": [],
   "source": [
    "one_hot_test_label = np.array(test_labels, dtype=\"float32\")\n",
    "one_hot_train_label = np.array(train_labels, dtype=\"float32\")"
   ]
  },
  {
   "cell_type": "markdown",
   "metadata": {},
   "source": [
    "# Test on hot encoding"
   ]
  },
  {
   "cell_type": "code",
   "execution_count": null,
   "metadata": {},
   "outputs": [],
   "source": [
    "MAX_LENGHT"
   ]
  },
  {
   "cell_type": "code",
   "execution_count": null,
   "metadata": {},
   "outputs": [],
   "source": [
    "type(train_data)"
   ]
  },
  {
   "cell_type": "code",
   "execution_count": null,
   "metadata": {},
   "outputs": [],
   "source": [
    "type(train_data[1])"
   ]
  },
  {
   "cell_type": "code",
   "execution_count": null,
   "metadata": {},
   "outputs": [],
   "source": [
    "padding(train_data[1], 5)"
   ]
  },
  {
   "cell_type": "code",
   "execution_count": null,
   "metadata": {},
   "outputs": [],
   "source": [
    "train_data[1][:5]"
   ]
  },
  {
   "cell_type": "markdown",
   "metadata": {},
   "source": [
    "# Bug padding was not working"
   ]
  },
  {
   "cell_type": "code",
   "execution_count": null,
   "metadata": {},
   "outputs": [],
   "source": [
    "onehot_v1([train_data[1]], NUM_WORDS, 5)"
   ]
  },
  {
   "cell_type": "code",
   "execution_count": null,
   "metadata": {},
   "outputs": [],
   "source": [
    "onehot_v2([train_data[1]], NUM_WORDS, 5)"
   ]
  },
  {
   "cell_type": "markdown",
   "metadata": {},
   "source": [
    "# Model"
   ]
  },
  {
   "cell_type": "code",
   "execution_count": null,
   "metadata": {},
   "outputs": [],
   "source": [
    "X_inputs = tf.keras.Input(shape=(NUM_WORDS,))\n",
    "X = tf.keras.layers.Dense(units=32, activation=\"relu\")(X_inputs)\n",
    "X = tf.keras.layers.Dense(units=16, activation=\"relu\")(X_inputs)\n",
    "X = tf.keras.layers.Dense(units=8, activation=\"relu\")(X_inputs)\n",
    "X = tf.keras.layers.Dense(units=4, activation=\"relu\")(X_inputs)\n",
    "X_output = tf.keras.layers.Dense(units=1, activation=\"sigmoid\")(X)\n",
    "\n",
    "model=tf.keras.Model(inputs=X_inputs, outputs=X_output)"
   ]
  },
  {
   "cell_type": "code",
   "execution_count": null,
   "metadata": {},
   "outputs": [],
   "source": [
    "model.compile(loss=tf.keras.losses.BinaryCrossentropy(),\n",
    "                optimizer=tf.keras.optimizers.RMSprop(lr=1e-3),\n",
    "                metrics=[\"accuracy\", \"Precision\", \"Recall\", \"AUC\"])"
   ]
  },
  {
   "cell_type": "markdown",
   "metadata": {},
   "source": [
    "# Callbacks"
   ]
  },
  {
   "cell_type": "code",
   "execution_count": null,
   "metadata": {},
   "outputs": [],
   "source": [
    "early_stop = tf.keras.callbacks.EarlyStopping(\n",
    "                monitor=\"val_loss\",\n",
    "                patience = 5\n",
    "            )\n",
    "\n",
    "def scheduler(epoch, lr):\n",
    "  if epoch < 15:\n",
    "    return lr\n",
    "  else:\n",
    "    return lr * tf.math.exp(-0.05)\n",
    "\n",
    "learning_rate_exp_reduce = tf.keras.callbacks.LearningRateScheduler(scheduler, verbose=1)\n",
    "\n",
    "model_checkpoint = tf.keras.callbacks.ModelCheckpoint(save_best_only=True, filepath=\"checkpoint\")"
   ]
  },
  {
   "cell_type": "code",
   "execution_count": null,
   "metadata": {},
   "outputs": [],
   "source": [
    "model.fit(one_hot_train_data,\n",
    "         one_hot_train_label,\n",
    "         epochs=500,\n",
    "         validation_data=(one_hot_test_data, one_hot_test_label),\n",
    "         callbacks=[early_stop, learning_rate_exp_reduce, model_checkpoint])"
   ]
  }
 ],
 "metadata": {
  "kernelspec": {
   "display_name": "tf_2_9_metal_0_5_keras",
   "language": "python",
   "name": "python3"
  },
  "language_info": {
   "codemirror_mode": {
    "name": "ipython",
    "version": 3
   },
   "file_extension": ".py",
   "mimetype": "text/x-python",
   "name": "python",
   "nbconvert_exporter": "python",
   "pygments_lexer": "ipython3",
   "version": "3.10.8"
  },
  "orig_nbformat": 4,
  "vscode": {
   "interpreter": {
    "hash": "a15c967ccfdd413fdaae9b0ef29591898e7727afbc71b52356c7c116ffefefea"
   }
  }
 },
 "nbformat": 4,
 "nbformat_minor": 2
}
